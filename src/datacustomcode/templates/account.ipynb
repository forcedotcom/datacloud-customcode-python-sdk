{
 "cells": [
  {
   "cell_type": "code",
   "execution_count": null,
   "id": "253d95db-fdc6-4bbb-b75c-20b46639f2d3",
   "metadata": {},
   "outputs": [],
   "source": [
    "from datacustomcode.client import Client\n",
    "from datacustomcode.io.writer.base import WriteMode\n",
    "from pyspark.sql.functions import col, upper"
   ]
  },
  {
   "cell_type": "code",
   "execution_count": null,
   "id": "debdfc62-489b-4ca8-af1d-56c60c0d32e7",
   "metadata": {},
   "outputs": [],
   "source": [
    "client = Client()  \n",
    " \n",
    "df = client.read_dlo(\"Account_Home__dll\")\n"
   ]
  },
  {
   "cell_type": "code",
   "execution_count": null,
   "id": "d96ad7c8-f5ba-44a7-a2ad-8597beb20cf4",
   "metadata": {},
   "outputs": [],
   "source": [
    "# Perform transformations on the DataFrame\n",
    "df_upper1 = df.withColumn(\"Description__c\", upper(col(\"Description__c\")))\n",
    "\n",
    "# Drop specific columns related to relationships\n",
    "df_upper1 = df_upper1.drop(\"KQ_ParentId__c\")\n",
    "df_upper1 = df_upper1.drop(\"KQ_Id__c\")\n",
    "\n",
    "df_upper1.show()\n"
   ]
  },
  {
   "cell_type": "code",
   "execution_count": null,
   "id": "6f823139-3a22-487f-a4a1-966c6269a708",
   "metadata": {},
   "outputs": [],
   "source": [
    "# Save the transformed DataFrame\n",
    "dlo_name = 'Account_Home_copy__dll'\n",
    "client.write_to_dlo(dlo_name, df_upper1, write_mode=WriteMode.APPEND)\n"
   ]
  },
  {
   "cell_type": "code",
   "execution_count": null,
   "id": "425f383b-09b4-45ee-957c-f215d7a2ccf2",
   "metadata": {},
   "outputs": [],
   "source": []
  }
 ],
 "metadata": {
  "kernelspec": {
   "display_name": "Python 3 (ipykernel)",
   "language": "python",
   "name": "python3"
  },
  "language_info": {
   "codemirror_mode": {
    "name": "ipython",
    "version": 3
   },
   "file_extension": ".py",
   "mimetype": "text/x-python",
   "name": "python",
   "nbconvert_exporter": "python",
   "pygments_lexer": "ipython3",
   "version": "3.11.11"
  }
 },
 "nbformat": 4,
 "nbformat_minor": 5
}
